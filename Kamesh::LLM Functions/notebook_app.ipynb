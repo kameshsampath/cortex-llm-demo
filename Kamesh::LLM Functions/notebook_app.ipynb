{
 "metadata": {
  "kernelspec": {
   "display_name": "Streamlit Notebook",
   "name": "streamlit"
  }
 },
 "nbformat_minor": 5,
 "nbformat": 4,
 "cells": [
  {
   "cell_type": "markdown",
   "id": "4fc3b974-a20c-4f2a-a3cf-62af07a2dc96",
   "metadata": {
    "name": "cell4",
    "collapsed": false
   },
   "source": "# LLM Functions"
  },
  {
   "cell_type": "code",
   "id": "3775908f-ca36-4846-8f38-5adca39217f2",
   "metadata": {
    "language": "python",
    "name": "cell1",
    "collapsed": false
   },
   "source": "# Import python packages\nimport streamlit as st",
   "execution_count": null,
   "outputs": []
  },
  {
   "cell_type": "code",
   "id": "8d50cbf4-0c8d-4950-86cb-114990437ac9",
   "metadata": {
    "language": "sql",
    "name": "support_tickets",
    "collapsed": false
   },
   "source": "SELECT * FROM SUPPORT_TICKETS;",
   "execution_count": null,
   "outputs": []
  },
  {
   "cell_type": "markdown",
   "id": "49c1883e-f708-4c28-8995-0e12bee09c58",
   "metadata": {
    "name": "cell2",
    "collapsed": false
   },
   "source": "## COMPLETE"
  },
  {
   "cell_type": "code",
   "id": "c695373e-ac74-4b62-a1f1-08206cbd5c81",
   "metadata": {
    "language": "sql",
    "name": "cell3",
    "collapsed": false
   },
   "source": "SELECT SNOWFLAKE.CORTEX.COMPLETE('llama3.1-405b','Tell me about Snowflake and its relation with AI Data Cloud') as ABOUT_SNOWFLAKE",
   "execution_count": null,
   "outputs": []
  },
  {
   "cell_type": "markdown",
   "id": "915df8ad-5685-47d4-b865-789598dc10a3",
   "metadata": {
    "name": "cell5",
    "collapsed": false
   },
   "source": "## SENTIMENT"
  },
  {
   "cell_type": "code",
   "id": "88a90068-11e5-4bdf-86df-4f7a1e0b23eb",
   "metadata": {
    "language": "sql",
    "name": "sentiment_analysis",
    "collapsed": false
   },
   "outputs": [],
   "source": "SELECT REQUEST, ROUND(SNOWFLAKE.CORTEX.SENTIMENT(REQUEST))::INT AS Sentiment\nFROM SUPPORT_TICKETS\nLIMIT 10;",
   "execution_count": null
  },
  {
   "cell_type": "code",
   "id": "38edf176-21ff-4ec0-bed6-b05fb5fd3d12",
   "metadata": {
    "language": "python",
    "name": "cell6",
    "collapsed": false
   },
   "outputs": [],
   "source": "st.markdown(\n    \"\"\"\n- :blush: : :green[Positive]\n- :neutral_face: :  :orange[Neutral]\n- :disappointed:  : :red[Negative]\n\"\"\"\n)\ndf = sentiment_analysis.to_df().to_pandas()\ndf = df.astype('string')\n# when sentiment score is -1 then its negative\ndf.loc[df['SENTIMENT'] == \"-1\", 'SENTIMENT'] = \"😞\"\n# when sentiment score is 0 then its neutral\ndf.loc[df['SENTIMENT'] == \"0\", 'SENTIMENT'] = \"😐\"\n# when sentiment score is 1 then its positive\ndf.loc[df['SENTIMENT'] == \"1\", 'SENTIMENT'] = \"😊\"\nst.dataframe(df)",
   "execution_count": null
  },
  {
   "cell_type": "markdown",
   "id": "1333ae39-23b9-4b26-a1a0-5eed9b2995ab",
   "metadata": {
    "name": "cell7",
    "collapsed": false
   },
   "source": "## SUMMARIZE"
  },
  {
   "cell_type": "code",
   "id": "171da833-0492-4b4e-9225-d4d1daca7d6b",
   "metadata": {
    "language": "sql",
    "name": "summarize",
    "collapsed": false
   },
   "outputs": [],
   "source": "SELECT REQUEST,SNOWFLAKE.CORTEX.SUMMARIZE(REQUEST) AS Summary\nFROM SUPPORT_TICKETS\nLIMIT 1;",
   "execution_count": null
  },
  {
   "cell_type": "markdown",
   "id": "249a790c-d053-496b-ab3d-715d8e106757",
   "metadata": {
    "name": "cell9",
    "collapsed": false
   },
   "source": "## PROMPTING"
  },
  {
   "cell_type": "code",
   "id": "d8471f12-3a5c-412d-b45d-b99f5cec8401",
   "metadata": {
    "language": "sql",
    "name": "json_summary",
    "collapsed": false
   },
   "outputs": [],
   "source": "SET  LLM_PROMPT='Summarize this request in less than 200 words.Put the fees, request and country in JSON format.';\nSELECT request,SNOWFLAKE.CORTEX.COMPLETE('snowflake-arctic',CONCAT('[INST]',$LLM_PROMPT,request,'[/INST]')) AS Summary\nFROM SUPPORT_TICKETS\nLIMIT 1;",
   "execution_count": null
  },
  {
   "cell_type": "code",
   "id": "89af32dd-dbab-495d-a1d6-81587e6360d4",
   "metadata": {
    "language": "python",
    "name": "cell10",
    "collapsed": false
   },
   "outputs": [],
   "source": "df = json_summary.to_df().to_pandas()\nst.json(df.iloc[0,1])",
   "execution_count": null
  }
 ]
}