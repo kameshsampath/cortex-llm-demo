{
 "metadata": {
  "kernelspec": {
   "display_name": "Streamlit Notebook",
   "name": "streamlit"
  }
 },
 "nbformat_minor": 5,
 "nbformat": 4,
 "cells": [
  {
   "cell_type": "markdown",
   "id": "4fc3b974-a20c-4f2a-a3cf-62af07a2dc96",
   "metadata": {
    "name": "cell4",
    "collapsed": false
   },
   "source": "# LLM Functions"
  },
  {
   "cell_type": "code",
   "id": "3775908f-ca36-4846-8f38-5adca39217f2",
   "metadata": {
    "language": "python",
    "name": "cell1",
    "collapsed": false
   },
   "source": "# Import python packages\nimport streamlit as st\nimport pandas as pd",
   "execution_count": null,
   "outputs": []
  },
  {
   "cell_type": "code",
   "id": "8d50cbf4-0c8d-4950-86cb-114990437ac9",
   "metadata": {
    "language": "sql",
    "name": "support_tickets",
    "collapsed": false
   },
   "source": "SELECT * FROM SUPPORT_TICKETS;",
   "execution_count": null,
   "outputs": []
  },
  {
   "cell_type": "markdown",
   "id": "0957e334-490d-41b4-97c6-3d867a322387",
   "metadata": {
    "name": "cell11",
    "collapsed": false
   },
   "source": "## CLASSIFY_TEXT\n\nCategorize the text in to the one of the categories provided."
  },
  {
   "cell_type": "code",
   "id": "e8e8a9e0-4cc1-4978-8300-6e50ee996d9f",
   "metadata": {
    "language": "sql",
    "name": "cell13",
    "collapsed": false
   },
   "outputs": [],
   "source": "SELECT request as text, ARRAY_CONSTRUCT('Internet','Phone') as classes,\n       SNOWFLAKE.CORTEX.CLASSIFY_TEXT(text,classes)['label'] as classification\nFROM support_tickets LIMIT 5;",
   "execution_count": null
  },
  {
   "cell_type": "markdown",
   "id": "49c1883e-f708-4c28-8995-0e12bee09c58",
   "metadata": {
    "name": "cell2",
    "collapsed": false
   },
   "source": "## COMPLETE\n\n### Supported Models\n\n`gemma-7b`,`jamba-1.5-mini`,`jamba-instruct`,`llama2-70b-chat`,`llama3-8b`\n\n`llama3-70b`,`llama3.1-8b`,`llama3.1-70b`, `llama3.1-405b`, \n\n`mistral-large `, `mistral-large2`, `mistral-7b`, `mixtral-8x7b`\n\n`reka-core`, `reka-flash` ,`snowflake-arctic`\n\n"
  },
  {
   "cell_type": "code",
   "id": "c695373e-ac74-4b62-a1f1-08206cbd5c81",
   "metadata": {
    "language": "sql",
    "name": "complete",
    "collapsed": false,
    "codeCollapsed": false
   },
   "source": "SELECT request as text, \n   SNOWFLAKE.CORTEX.COMPLETE(\n     'snowflake-arctic',\n      CONCAT('Summarize this request in bullet points: <request>', text, '</request>')) as issue_summary\n  FROM SUPPORT_TICKETS LIMIT 1;",
   "execution_count": null,
   "outputs": []
  },
  {
   "cell_type": "code",
   "id": "57646f2e-36b3-4546-86ff-057ccea60d10",
   "metadata": {
    "language": "python",
    "name": "cell3",
    "collapsed": false
   },
   "outputs": [],
   "source": "complete_df = complete.to_df().to_pandas()\nst.write(complete_df['TEXT'][0])\nst.write(complete_df['ISSUE_SUMMARY'][0])",
   "execution_count": null
  },
  {
   "cell_type": "markdown",
   "id": "915df8ad-5685-47d4-b865-789598dc10a3",
   "metadata": {
    "name": "cell5",
    "collapsed": false
   },
   "source": "## SENTIMENT"
  },
  {
   "cell_type": "code",
   "id": "88a90068-11e5-4bdf-86df-4f7a1e0b23eb",
   "metadata": {
    "language": "sql",
    "name": "sentiment_analysis",
    "collapsed": false
   },
   "outputs": [],
   "source": "SELECT REQUEST, ROUND(SNOWFLAKE.CORTEX.SENTIMENT(REQUEST))::INT AS Sentiment\nFROM SUPPORT_TICKETS\nLIMIT 10;",
   "execution_count": null
  },
  {
   "cell_type": "code",
   "id": "38edf176-21ff-4ec0-bed6-b05fb5fd3d12",
   "metadata": {
    "language": "python",
    "name": "cell6",
    "collapsed": false
   },
   "outputs": [],
   "source": "st.markdown(\n    \"\"\"\n- :blush: : :green[Positive]\n- :neutral_face: :  :orange[Neutral]\n- :disappointed:  : :red[Negative]\n\"\"\"\n)\ndf = sentiment_analysis.to_df().to_pandas()\ndf = df.astype('string')\n# when sentiment score is -1 then its negative\ndf.loc[df['SENTIMENT'] == \"-1\", 'SENTIMENT'] = \"😞\"\n# when sentiment score is 0 then its neutral\ndf.loc[df['SENTIMENT'] == \"0\", 'SENTIMENT'] = \"😐\"\n# when sentiment score is 1 then its positive\ndf.loc[df['SENTIMENT'] == \"1\", 'SENTIMENT'] = \"😊\"\nst.dataframe(df)",
   "execution_count": null
  },
  {
   "cell_type": "markdown",
   "id": "1333ae39-23b9-4b26-a1a0-5eed9b2995ab",
   "metadata": {
    "name": "cell7",
    "collapsed": false
   },
   "source": "## SUMMARIZE"
  },
  {
   "cell_type": "code",
   "id": "171da833-0492-4b4e-9225-d4d1daca7d6b",
   "metadata": {
    "language": "sql",
    "name": "summarize",
    "collapsed": false
   },
   "outputs": [],
   "source": "SELECT REQUEST,SNOWFLAKE.CORTEX.SUMMARIZE(REQUEST) AS Summary\nFROM SUPPORT_TICKETS\nLIMIT 1;",
   "execution_count": null
  },
  {
   "cell_type": "markdown",
   "id": "249a790c-d053-496b-ab3d-715d8e106757",
   "metadata": {
    "name": "cell9",
    "collapsed": false
   },
   "source": "## PROMPTING"
  },
  {
   "cell_type": "code",
   "id": "d8471f12-3a5c-412d-b45d-b99f5cec8401",
   "metadata": {
    "language": "sql",
    "name": "json_summary",
    "collapsed": false
   },
   "outputs": [],
   "source": "SET  LLM_PROMPT='Summarize this request in less than 200 words.Put the fees, request and country in JSON format.';\nSELECT request,SNOWFLAKE.CORTEX.COMPLETE('snowflake-arctic',CONCAT('[INST]',$LLM_PROMPT,request,'[/INST]')) AS Summary\nFROM SUPPORT_TICKETS\nLIMIT 1;",
   "execution_count": null
  },
  {
   "cell_type": "code",
   "id": "89af32dd-dbab-495d-a1d6-81587e6360d4",
   "metadata": {
    "language": "python",
    "name": "cell10",
    "collapsed": false
   },
   "outputs": [],
   "source": "df = json_summary.to_df().to_pandas()\nst.json(df.iloc[0,1])",
   "execution_count": null
  },
  {
   "cell_type": "markdown",
   "id": "c8d78fd3-5d7a-4707-8592-9378fb763848",
   "metadata": {
    "name": "cell14",
    "collapsed": false
   },
   "source": "## TRANSLATE\n\n### Supported languages \n\n| Language | Code \n| :---: | :--:\nEnglish | 'en'\nFrench | 'fr'\nGerman |'de'\nItalian |'it'\nJapanese | 'ja'\nKorean | 'ko'\nPolish | 'pl'\nPortuguese | 'pt'\nRussian |'ru'\nSpanish | 'es'\nSwedish |'sv'"
  },
  {
   "cell_type": "code",
   "id": "00dc6e4d-ec7f-49c5-8b2e-a58fe67d69f7",
   "metadata": {
    "language": "sql",
    "name": "translate",
    "collapsed": false
   },
   "outputs": [],
   "source": "SELECT request as text, SNOWFLAKE.CORTEX.TRANSLATE(text,'en','fr') as translated FROM SUPPORT_TICKETS LIMIT 1;",
   "execution_count": null
  },
  {
   "cell_type": "code",
   "id": "2ee970d0-c844-40a1-b454-c39ebc2f39a5",
   "metadata": {
    "language": "python",
    "name": "cell16",
    "collapsed": false
   },
   "outputs": [],
   "source": "df = translate.to_df().to_pandas()\nst.write(df[\"TEXT\"][0])\nst.subheader(\"Translation\")\nst.write(df[\"TRANSLATED\"][0])",
   "execution_count": null
  },
  {
   "cell_type": "markdown",
   "id": "ef858169-3b10-4416-89ac-20fd9d2c228b",
   "metadata": {
    "name": "cell15",
    "collapsed": false
   },
   "source": "## EXTRACT_ANSWER"
  },
  {
   "cell_type": "code",
   "id": "a35c8f61-dd37-4112-a128-8b4898c0909f",
   "metadata": {
    "language": "sql",
    "name": "extract_answer",
    "collapsed": false
   },
   "outputs": [],
   "source": "SELECT SNOWFLAKE.CORTEX.EXTRACT_ANSWER(request,\n    'How much roaming fee charged?')[0]['answer']::STRING as roaming_fees\nFROM support_tickets LIMIT 3;",
   "execution_count": null
  },
  {
   "cell_type": "markdown",
   "id": "71d21567-0b18-46d9-8050-0a4120c86c8b",
   "metadata": {
    "name": "cell8",
    "collapsed": false
   },
   "source": "## Document AI"
  },
  {
   "cell_type": "code",
   "id": "eb124ac6-dbed-4c48-a959-3f8e67d655bb",
   "metadata": {
    "language": "sql",
    "name": "invoice_details",
    "collapsed": false
   },
   "outputs": [],
   "source": "WITH invoice_info as  ( SELECT KAMESH_LLM_DEMO.DOC_AI.INVOICE_INFO!PREDICT(\n  GET_PRESIGNED_URL(@DOCS, 'Invoice 9987.pdf'), 1) as invoice_details\n)\nSELECT * from invoice_info;",
   "execution_count": null
  },
  {
   "cell_type": "code",
   "id": "34626119-469a-4e5c-a8df-4f1311378e53",
   "metadata": {
    "language": "python",
    "name": "cell12",
    "collapsed": false
   },
   "outputs": [],
   "source": "import json\nfrom re import sub\nfrom decimal import Decimal\n\ndf = invoice_details.to_df().to_pandas()\nout = json.loads(df.iloc[0,0])\nextracted_data = { key: item[0]['value'] for key, item in out.items() if key != \"__documentMetadata\"}\ndf = pd.DataFrame([extracted_data])\ndf = df.rename(columns={\n    \"CUSTOMER_NAME_ADDR\": \"Customer Name and Address\",\n    \"DUE_DATE\": \"Due Date\",\n    \"INTERNATIONAL_ROAMING_FEE\": \"Intl. Roaming Fee\",\n    \"INVOICE_NUMBER\": \"Invoice Number\",\n    \"PO_NUMBER\": \"Purchase Order\",\n    \"SERVICE_PLAN\": \"Plan\",\n    \"TOTAL_DUE\": \"Due\",\n})\ntbl = df.loc[:,[\"Invoice Number\",\"Purchase Order\",\"Customer Name and Address\",\"Plan\",\"Due Date\"]]\nst.header(\"Invoice Details\")\nst.dataframe(tbl,hide_index=True)\ncol1, col2 = st.columns(2)\ndue = df.loc[0,\"Due\"]\nroaming = df.iloc[0,2]\ncol1.metric(\"International Roaming\",roaming)\nromaing_contrib =  ( Decimal(sub(r'[^\\d.]', '', roaming)) / Decimal(sub(r'[^\\d.]', '', due)) ) * 100\ncol2.metric(\"Total\",due,delta=f\"{romaing_contrib:0.2f}% is roaming\")\n\n",
   "execution_count": null
  }
 ]
}