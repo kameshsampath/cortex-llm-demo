{
 "metadata": {
  "kernelspec": {
   "display_name": "Streamlit Notebook",
   "name": "streamlit"
  }
 },
 "nbformat_minor": 5,
 "nbformat": 4,
 "cells": [
  {
   "cell_type": "markdown",
   "id": "b5727103-e592-4879-bb1f-5f7384994e46",
   "metadata": {
    "collapsed": false,
    "name": "cell0"
   },
   "source": [
    "# Batch Text Processing using LLMs and Fine-tuning"
   ]
  },
  {
   "cell_type": "code",
   "execution_count": null,
   "id": "cb7310e0-4362-4cd2-bad9-fd70854ef709",
   "metadata": {
    "codeCollapsed": false,
    "collapsed": false,
    "language": "python",
    "name": "cell1"
   },
   "outputs": [],
   "source": [
    "from snowflake.snowpark.context import get_active_session\n",
    "import snowflake.snowpark.functions as F\n",
    "import streamlit as st\n",
    "import altair as alt\n",
    "session = get_active_session()\n",
    "\n",
    "df_support_tickets = session.table('support_tickets')\n",
    "df_support_tickets"
   ]
  },
  {
   "cell_type": "markdown",
   "id": "1a34347c-0a82-4cac-950a-1b9c848c6200",
   "metadata": {
    "collapsed": false,
    "name": "cell13"
   },
   "source": [
    "## Automatic ticket categorization using LLM"
   ]
  },
  {
   "cell_type": "code",
   "execution_count": null,
   "id": "c1b42f0d-61f8-4feb-8953-709411c95955",
   "metadata": {
    "codeCollapsed": false,
    "collapsed": false,
    "language": "python",
    "name": "cell16"
   },
   "outputs": [],
   "source": [
    "prompt = \"\"\"You are an agent that helps organize requests that come to our support team. \n",
    "\n",
    "The request category is the reason why the customer reached out. These are the possible types of request categories:\n",
    "\n",
    "Roaming fees\n",
    "Slow data speed\n",
    "Lost phone\n",
    "Add new line\n",
    "Closing account\n",
    "\n",
    "Try doing it for this request and return only the request category only.\n",
    "\"\"\""
   ]
  },
  {
   "cell_type": "markdown",
   "id": "b25748d6-35f3-41c0-8b8f-3578f363be83",
   "metadata": {
    "collapsed": false,
    "name": "cell5"
   },
   "source": [
    "### Use Large LLM"
   ]
  },
  {
   "cell_type": "code",
   "execution_count": null,
   "id": "56693c61-19d6-47aa-bec5-95d04ed52737",
   "metadata": {
    "codeCollapsed": false,
    "collapsed": false,
    "language": "python",
    "name": "cell15"
   },
   "outputs": [],
   "source": [
    "large_llm_response_sql = f\"\"\" select ticket_id, request, \n",
    "trim(snowflake.cortex.complete('llama3.1-405b',concat('{prompt}',request)),'\\n') as large_llm_response\n",
    "from support_tickets\"\"\"\n",
    "\n",
    "df_large_llm_response = session.sql(large_llm_response_sql)\n",
    "df_large_llm_response"
   ]
  },
  {
   "cell_type": "markdown",
   "id": "ab397503-3806-4bc9-8f59-7f84da848bf4",
   "metadata": {
    "collapsed": false,
    "name": "cell3"
   },
   "source": [
    "### Use mistral-7b and compare responses"
   ]
  },
  {
   "cell_type": "code",
   "execution_count": null,
   "id": "2fb995b6-8242-4b8c-82e4-621256e39fe7",
   "metadata": {
    "codeCollapsed": false,
    "collapsed": false,
    "language": "python",
    "name": "cell14"
   },
   "outputs": [],
   "source": [
    "mistral_7b_response_sql = f\"\"\" select ticket_id,\n",
    "trim(snowflake.cortex.complete('mistral-7b',concat('{prompt}',request)),'\\n') as mistral_7b_response\n",
    "from support_tickets\"\"\"\n",
    "\n",
    "df_mistral_7b_response = session.sql(mistral_7b_response_sql)\n",
    "\n",
    "df_llms = df_large_llm_response.join(df_mistral_7b_response,'ticket_id')\n",
    "df_llms"
   ]
  },
  {
   "cell_type": "markdown",
   "id": "7f8cd51b-96d8-44d5-adc4-50a1b62fc914",
   "metadata": {
    "collapsed": false,
    "name": "cell10"
   },
   "source": [
    "## Fine-tuning \n",
    "\n",
    "### Generate datasets to fine-tune mistral-7b"
   ]
  },
  {
   "cell_type": "code",
   "execution_count": null,
   "id": "139c2111-f220-4be2-b907-4b2a140fdea4",
   "metadata": {
    "codeCollapsed": false,
    "collapsed": false,
    "language": "python",
    "name": "cell2"
   },
   "outputs": [],
   "source": [
    "df_fine_tune = df_large_llm_response.with_column(\"prompt\", F.concat(F.lit(prompt),F.lit(\" \"),F.col(\"request\"))).select(\"ticket_id\",\"prompt\",\"large_llm_response\")\n",
    "df_fine_tune.write.mode('overwrite').save_as_table('support_tickets_finetune')\n",
    "\n",
    "train_df, eval_df = session.table(\"support_tickets_finetune\").random_split(weights=[0.8, 0.2], seed=42)\n",
    "train_df.write.mode('overwrite').save_as_table('support_tickets_train')\n",
    "eval_df.write.mode('overwrite').save_as_table('support_tickets_eval')\n",
    "\n",
    "st.write(\"### :white_check_mark: Training dataset created and saved in *support_tickets_train* table successfully.\")\n",
    "st.write(\"### :white_check_mark: Evaluation dataset created and saved in *support_tickets_eval* table successfully.\")"
   ]
  },
  {
   "cell_type": "markdown",
   "id": "c8b34618-1fce-4bd7-b715-ccccac5e1eae",
   "metadata": {
    "collapsed": false,
    "name": "cell8"
   },
   "source": [
    "## Inference using fine-tuned model"
   ]
  },
  {
   "cell_type": "code",
   "execution_count": null,
   "id": "3408e307-ba6b-4425-9b59-d6d9491ea6ef",
   "metadata": {
    "codeCollapsed": false,
    "collapsed": false,
    "language": "python",
    "name": "cell9"
   },
   "outputs": [],
   "source": [
    "sql = f\"\"\"select ticket_id, request,\n",
    "trim(snowflake.cortex.complete('SUPPORT_TICKETS_FINETUNED_MISTRAL_7B',concat('{prompt}',request)),'\\n') as category\n",
    "from support_tickets\"\"\"\n",
    "\n",
    "df_fine_tuned_mistral_7b_response = session.sql(sql)\n",
    "df_fine_tuned_mistral_7b_response"
   ]
  },
  {
   "cell_type": "code",
   "execution_count": null,
   "id": "b15b7a45-7941-4d54-a401-eb82c240987b",
   "metadata": {
    "collapsed": false,
    "language": "python",
    "name": "cell6"
   },
   "outputs": [],
   "source": [
    "df = df_fine_tuned_mistral_7b_response.group_by('category').agg(F.count(\"*\").as_('COUNT'))\n",
    "st.subheader(\"Number of requests per category\")\n",
    "\n",
    "chart = alt.Chart(df.to_pandas()).mark_bar().encode(\n",
    "    y=alt.Y('CATEGORY:N', sort=\"-x\"),\n",
    "    x=alt.X('COUNT:Q',),\n",
    "    color=alt.Color('CATEGORY:N', scale=alt.Scale(scheme='category10'), legend=None),\n",
    ").properties(height=400)\n",
    "\n",
    "st.altair_chart(chart, use_container_width=True)"
   ]
  }
 ]
}